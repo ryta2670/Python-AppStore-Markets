{
 "cells": [
  {
   "cell_type": "markdown",
   "metadata": {},
   "source": [
    "# Apps that attract the most users\n",
    "\n",
    "   In this project we will look at the current market for free apps on the IOS and android app stores to see what kinds of apps attract the most users. \n",
    "\n",
    "   The goal of this project is to find out which apps are the most successful based on how many users they have.\n",
    "    \n",
    "   The dataset for the Android apps can be found [here](https://www.kaggle.com/lava18/google-play-store-apps).\n",
    "   \n",
    "  The dataset for the Apple apps can be found [here](https://www.kaggle.com/ramamet4/app-store-apple-data-set-10k-apps)."
   ]
  },
  {
   "cell_type": "code",
   "execution_count": 2,
   "metadata": {},
   "outputs": [
    {
     "name": "stdout",
     "output_type": "stream",
     "text": [
      "['id', 'track_name', 'size_bytes', 'currency', 'price', 'rating_count_tot', 'rating_count_ver', 'user_rating', 'user_rating_ver', 'ver', 'cont_rating', 'prime_genre', 'sup_devices.num', 'ipadSc_urls.num', 'lang.num', 'vpp_lic']\n",
      "\n",
      "\n",
      "['284882215', 'Facebook', '389879808', 'USD', '0.0', '2974676', '212', '3.5', '3.5', '95.0', '4+', 'Social Networking', '37', '1', '29', '1']\n",
      "\n",
      "\n",
      "['389801252', 'Instagram', '113954816', 'USD', '0.0', '2161558', '1289', '4.5', '4.0', '10.23', '12+', 'Photo & Video', '37', '0', '29', '1']\n",
      "\n",
      "\n",
      "Number of rows: 7198\n",
      "Number of columns: 16\n",
      "['App', 'Category', 'Rating', 'Reviews', 'Size', 'Installs', 'Type', 'Price', 'Content Rating', 'Genres', 'Last Updated', 'Current Ver', 'Android Ver']\n",
      "\n",
      "\n",
      "['Photo Editor & Candy Camera & Grid & ScrapBook', 'ART_AND_DESIGN', '4.1', '159', '19M', '10,000+', 'Free', '0', 'Everyone', 'Art & Design', 'January 7, 2018', '1.0.0', '4.0.3 and up']\n",
      "\n",
      "\n",
      "['Coloring book moana', 'ART_AND_DESIGN', '3.9', '967', '14M', '500,000+', 'Free', '0', 'Everyone', 'Art & Design;Pretend Play', 'January 15, 2018', '2.0.0', '4.0.3 and up']\n",
      "\n",
      "\n",
      "Number of rows: 10842\n",
      "Number of columns: 13\n"
     ]
    }
   ],
   "source": [
    "opened_file = open('AppleStore.csv')\n",
    "from csv import reader\n",
    "read_file = reader(opened_file)\n",
    "apple_apps_data = list(read_file)\n",
    "\n",
    "opened_file = open('googleplaystore.csv')\n",
    "from csv import reader\n",
    "read_file = reader(opened_file)\n",
    "goog_apps_data = list(read_file)\n",
    "\n",
    "\n",
    "def explore_data(dataset, start, end, rows_and_columns=False):\n",
    "    dataset_slice = dataset[start:end]    \n",
    "    for row in dataset_slice:\n",
    "        print(row)\n",
    "        print('\\n') # adds a new (empty) line after each row\n",
    "\n",
    "    if rows_and_columns:\n",
    "        print('Number of rows:', len(dataset))\n",
    "        print('Number of columns:', len(dataset[0]))\n",
    "explore_data(apple_apps_data, 0, 3, True)\n",
    "explore_data(goog_apps_data, 0, 3, True)"
   ]
  },
  {
   "cell_type": "code",
   "execution_count": null,
   "metadata": {},
   "outputs": [],
   "source": []
  },
  {
   "cell_type": "code",
   "execution_count": null,
   "metadata": {},
   "outputs": [],
   "source": []
  },
  {
   "cell_type": "markdown",
   "metadata": {},
   "source": [
    "Here is how we read in and created a list of lists to store the data sets. In addition to being able to choose which rows to print, this function also can print the total number of row and columns. "
   ]
  },
  {
   "cell_type": "code",
   "execution_count": 3,
   "metadata": {},
   "outputs": [
    {
     "name": "stdout",
     "output_type": "stream",
     "text": [
      "['Jazz Wi-Fi', 'COMMUNICATION', '3.4', '49', '4.0M', '10,000+', 'Free', '0', 'Everyone', 'Communication', 'February 10, 2017', '0.1', '2.3 and up']\n",
      "\n",
      "\n",
      "['Xposed Wi-Fi-Pwd', 'PERSONALIZATION', '3.5', '1042', '404k', '100,000+', 'Free', '0', 'Everyone', 'Personalization', 'August 5, 2014', '3.0.0', '4.0.3 and up']\n",
      "\n",
      "\n",
      "Number of rows: 10842\n",
      "Number of columns: 13\n"
     ]
    }
   ],
   "source": [
    "explore_data(goog_apps_data, 10471, 10473, True)"
   ]
  },
  {
   "cell_type": "code",
   "execution_count": 4,
   "metadata": {},
   "outputs": [],
   "source": [
    "del goog_apps_data[10471]"
   ]
  },
  {
   "cell_type": "code",
   "execution_count": 5,
   "metadata": {},
   "outputs": [
    {
     "name": "stdout",
     "output_type": "stream",
     "text": [
      "['Xposed Wi-Fi-Pwd', 'PERSONALIZATION', '3.5', '1042', '404k', '100,000+', 'Free', '0', 'Everyone', 'Personalization', 'August 5, 2014', '3.0.0', '4.0.3 and up']\n",
      "\n",
      "\n",
      "['Life Made WI-Fi Touchscreen Photo Frame', '1.9', '19', '3.0M', '1,000+', 'Free', '0', 'Everyone', '', 'February 11, 2018', '1.0.19', '4.0 and up']\n",
      "\n",
      "\n",
      "Number of rows: 10841\n",
      "Number of columns: 13\n"
     ]
    }
   ],
   "source": [
    "explore_data(goog_apps_data, 10471, 10473, True)"
   ]
  },
  {
   "cell_type": "markdown",
   "metadata": {},
   "source": [
    "Now we will clean our data to make sure our analysis does not have any errors (or at least the errors are reduced). After looking at the dicussion forums for the Android dataset on kaggle, I found that there might be something wrong with row 10471, so I decided to take a look at that row. Here we can see that there are not enough columns in row 10471. This means that there will be incorrect data, and so I deleted that row to clean the data.\n",
    "\n",
    "I also looked at the Apple dataset discussion forum. At first someone mentioned that there might be a possible duplicate row, but it was determined that there were two different apps with the same name merely by chance."
   ]
  },
  {
   "cell_type": "code",
   "execution_count": 6,
   "metadata": {},
   "outputs": [
    {
     "name": "stdout",
     "output_type": "stream",
     "text": [
      "Number of duplicate apps:  1181\n",
      "\n",
      "\n",
      "Examples of duplicate apps: ['Quick PDF Scanner + OCR FREE', 'Box', 'Google My Business', 'ZOOM Cloud Meetings', 'join.me - Simple Meetings', 'Box', 'Zenefits', 'Google Ads', 'Google My Business', 'Slack']\n"
     ]
    }
   ],
   "source": [
    "duplicates = []\n",
    "unique_apps = []\n",
    "\n",
    "for app in goog_apps_data:\n",
    "    name = app[0]\n",
    "    if name in unique_apps:\n",
    "        duplicates.append(name)\n",
    "    else: \n",
    "        unique_apps.append(name)\n",
    "print('Number of duplicate apps: ', len(duplicates))\n",
    "print('\\n')\n",
    "print('Examples of duplicate apps:', duplicates[:10])"
   ]
  },
  {
   "cell_type": "code",
   "execution_count": 7,
   "metadata": {},
   "outputs": [
    {
     "name": "stdout",
     "output_type": "stream",
     "text": [
      "['Slack', 'BUSINESS', '4.4', '51507', 'Varies with device', '5,000,000+', 'Free', '0', 'Everyone', 'Business', 'August 2, 2018', 'Varies with device', 'Varies with device']\n",
      "['Slack', 'BUSINESS', '4.4', '51507', 'Varies with device', '5,000,000+', 'Free', '0', 'Everyone', 'Business', 'August 2, 2018', 'Varies with device', 'Varies with device']\n",
      "['Slack', 'BUSINESS', '4.4', '51510', 'Varies with device', '5,000,000+', 'Free', '0', 'Everyone', 'Business', 'August 2, 2018', 'Varies with device', 'Varies with device']\n"
     ]
    }
   ],
   "source": [
    "for app in goog_apps_data:\n",
    "    name = app[0]\n",
    "    if name == 'Slack':\n",
    "        print(app)"
   ]
  },
  {
   "cell_type": "markdown",
   "metadata": {},
   "source": [
    "Upon doing my own search for duplicate apps, I found that there are in fact multiple versions of apps on the android store, including apps like Slack. This was done by looking at each app name in the dataset and then adding the name to a new list called unique_apps. If there was already an app with the same name in unique_apps, then I would add the name of that app to another list called duplicates. Thus, I found every duplicate in the store, and there were 1181 of them!\n",
    "\n",
    "To clean the data, I am going to remove duplicates that appear to be older versions of the app. The criteria I will use to determine which app is the newest is the total amount of reviews, which should never go down between app versions. As you can see, the reviews (column 4) is the only value that changes at least in the example using Slack above. "
   ]
  },
  {
   "cell_type": "code",
   "execution_count": 8,
   "metadata": {},
   "outputs": [
    {
     "name": "stdout",
     "output_type": "stream",
     "text": [
      "9659\n"
     ]
    }
   ],
   "source": [
    "reviews_max = {}\n",
    "\n",
    "for row in goog_apps_data[1:]:\n",
    "    name = row[0]\n",
    "    n_reviews = (row[3]) \n",
    "    if (name in reviews_max) and (reviews_max[name] < n_reviews):\n",
    "        reviews_max[name] =  n_reviews \n",
    "    if (name not in reviews_max):\n",
    "        reviews_max[name] = n_reviews\n",
    "    \n",
    "print(len(reviews_max))       \n"
   ]
  },
  {
   "cell_type": "markdown",
   "metadata": {},
   "source": [
    "Here I created a dictionary call reviews_max that goes through each of the rows in the google apps dataset and adds a news entry if there is no app and its review yet. And if there is a app with the same name already, it checks to see if the reviews are greater than the reviews already in the dictionary, and if it is then it replaces it in the dictionary. Then I printed the length to see if there are the correct amount of entries. "
   ]
  },
  {
   "cell_type": "code",
   "execution_count": null,
   "metadata": {},
   "outputs": [],
   "source": []
  },
  {
   "cell_type": "code",
   "execution_count": 9,
   "metadata": {},
   "outputs": [
    {
     "name": "stdout",
     "output_type": "stream",
     "text": [
      "9659\n"
     ]
    }
   ],
   "source": [
    "android_clean = []\n",
    "already_added = []\n",
    "\n",
    "for row in goog_apps_data[1:]:\n",
    "    name = row[0]\n",
    "    n_reviews = (row[3])\n",
    "    if (n_reviews == reviews_max[name]) and (name not in already_added):\n",
    "        android_clean.append(row)\n",
    "        already_added.append(name)\n",
    "print(len(android_clean))\n"
   ]
  },
  {
   "cell_type": "markdown",
   "metadata": {},
   "source": [
    "This time we create two lists, one for the new cleaned dataset: android_clean, and one for the names of apps which are already cleaned. If the reviews match the max number for reviews that we found in reviews_max dictionary, and if the name if not already added to the list, then we add the row to the new cleaned dataset and add the name to the dataset that keeps track of the apps that have already been added so that we don't add more than one of each app."
   ]
  },
  {
   "cell_type": "code",
   "execution_count": 10,
   "metadata": {},
   "outputs": [
    {
     "name": "stdout",
     "output_type": "stream",
     "text": [
      "True\n",
      "False\n",
      "True\n",
      "True\n"
     ]
    }
   ],
   "source": [
    "def is_english(string):\n",
    "    for character in string:\n",
    "        if ord(character) > 127:\n",
    "            return False\n",
    "        else:\n",
    "            return True\n",
    "print(is_english('Instagram'))\n",
    "print(is_english('爱奇艺PPS -《欢乐颂2》电视剧热播'))\n",
    "print(is_english('Docs To Go™ Free Office Suite'))\n",
    "print(is_english('Instachat 😜'))\n"
   ]
  },
  {
   "cell_type": "code",
   "execution_count": 11,
   "metadata": {},
   "outputs": [
    {
     "name": "stdout",
     "output_type": "stream",
     "text": [
      "9622\n",
      "7197\n"
     ]
    }
   ],
   "source": [
    "android_cleanest = []\n",
    "for row in android_clean[1:]:\n",
    "    name = row[0]\n",
    "    if is_english(name):\n",
    "        android_cleanest.append(row)\n",
    "        \n",
    "print(len(android_cleanest))\n",
    "\n",
    "apple_cleanest = []\n",
    "for row in apple_apps_data[1:]:\n",
    "    name = row[0]\n",
    "    if is_english(name):\n",
    "        apple_cleanest.append(row)\n",
    "        \n",
    "print(len(apple_cleanest))"
   ]
  },
  {
   "cell_type": "code",
   "execution_count": 12,
   "metadata": {},
   "outputs": [
    {
     "name": "stdout",
     "output_type": "stream",
     "text": [
      "8867\n",
      "4055\n"
     ]
    }
   ],
   "source": [
    "free_android = []\n",
    "for row in android_cleanest[1:]:\n",
    "    price = row[6]\n",
    "    if price == 'Free':\n",
    "        free_android.append(row)\n",
    "print(len(free_android))\n",
    "\n",
    "free_apple = []\n",
    "for row in apple_cleanest[1:]:\n",
    "    price = row[4]\n",
    "    if price == '0.0':\n",
    "        free_apple.append(row)\n",
    "print(len(free_apple))"
   ]
  },
  {
   "cell_type": "markdown",
   "metadata": {},
   "source": [
    "We want to find an app profile that fits both App Store and Google Play becuase neglecting eaither one means we would miss out of roughly 50% of the market. Therefore it makes sense to look at both app stores to see what kinds of apps do well there. Looking at columns 10 (index 9) in the android data set reveals the kind of genre, and looking at column 12 (index 11)"
   ]
  },
  {
   "cell_type": "code",
   "execution_count": 13,
   "metadata": {},
   "outputs": [],
   "source": [
    "def freq_table(dataset, index):\n",
    "    frequency_table = {}\n",
    "    count = 0\n",
    "    for row in dataset[1:]:\n",
    "        count +=1\n",
    "        genre = row[index]\n",
    "        if genre in frequency_table:\n",
    "            frequency_table[genre] = (1 + frequency_table[genre]) \n",
    "        else:\n",
    "            frequency_table[genre] = 1 \n",
    "    for genre in frequency_table:\n",
    "        frequency_table[genre] /= count\n",
    "        frequency_table[genre] *= 100\n",
    "        \n",
    "    return frequency_table"
   ]
  },
  {
   "cell_type": "code",
   "execution_count": 14,
   "metadata": {},
   "outputs": [
    {
     "name": "stdout",
     "output_type": "stream",
     "text": [
      "{'Art & Design;Creativity': 0.06767426122264832, 'Art & Design': 0.5639521768554027, 'Auto & Vehicles': 0.9248815700428604, 'Beauty': 0.5977893074667269, 'Books & Reference': 2.1768554026618543, 'Business': 4.601849763140086, 'Comics': 0.5865102639296188, 'Comics;Creativity': 0.011279043537108053, 'Communication': 3.225806451612903, 'Dating': 1.8610421836228286, 'Education': 5.380103767200541, 'Education;Creativity': 0.04511617414843221, 'Education;Education': 0.34965034965034963, 'Education;Pretend Play': 0.05639521768554027, 'Education;Brain Games': 0.03383713061132416, 'Entertainment': 6.068125422964132, 'Entertainment;Brain Games': 0.07895330475975637, 'Entertainment;Creativity': 0.03383713061132416, 'Entertainment;Music & Video': 0.1691856530566208, 'Events': 0.7105797428378074, 'Finance': 3.6882472366343335, 'Food & Drink': 1.2294157455447778, 'Health & Fitness': 3.0791788856304985, 'House & Home': 0.8120911346717798, 'Libraries & Demo': 0.9361606135799684, 'Lifestyle': 3.925107150913602, 'Lifestyle;Pretend Play': 0.011279043537108053, 'Arcade': 1.838484096548613, 'Puzzle': 1.1279043537108053, 'Racing': 0.9925558312655087, 'Sports': 3.4626663658921726, 'Casual': 1.7482517482517483, 'Simulation': 2.064064967290774, 'Adventure': 0.6767426122264832, 'Trivia': 0.428603654410106, 'Action': 3.0904579291676066, 'Word': 0.25941800135348525, 'Role Playing': 0.9361606135799684, 'Strategy': 0.9023234829686443, 'Board': 0.37220843672456577, 'Card': 0.43988269794721413, 'Music': 0.20302278366794496, 'Action;Action & Adventure': 0.10151139183397248, 'Casual;Brain Games': 0.13534852244529663, 'Educational;Creativity': 0.03383713061132416, 'Puzzle;Brain Games': 0.18046469659372885, 'Educational;Education': 0.3947665237987819, 'Card;Brain Games': 0.011279043537108053, 'Casual;Pretend Play': 0.2368599142792691, 'Educational;Brain Games': 0.06767426122264832, 'Art & Design;Pretend Play': 0.011279043537108053, 'Educational;Pretend Play': 0.09023234829686443, 'Entertainment;Education': 0.011279043537108053, 'Casual;Education': 0.022558087074216106, 'Casual;Creativity': 0.06767426122264832, 'Casual;Action & Adventure': 0.13534852244529663, 'Music;Music & Video': 0.022558087074216106, 'Arcade;Pretend Play': 0.011279043537108053, 'Adventure;Action & Adventure': 0.03383713061132416, 'Role Playing;Action & Adventure': 0.03383713061132416, 'Simulation;Pretend Play': 0.022558087074216106, 'Puzzle;Creativity': 0.022558087074216106, 'Simulation;Action & Adventure': 0.07895330475975637, 'Racing;Action & Adventure': 0.1691856530566208, 'Sports;Action & Adventure': 0.022558087074216106, 'Educational;Action & Adventure': 0.03383713061132416, 'Arcade;Action & Adventure': 0.12406947890818859, 'Entertainment;Action & Adventure': 0.03383713061132416, 'Art & Design;Action & Adventure': 0.011279043537108053, 'Puzzle;Action & Adventure': 0.03383713061132416, 'Education;Action & Adventure': 0.03383713061132416, 'Strategy;Action & Adventure': 0.011279043537108053, 'Music & Audio;Music & Video': 0.011279043537108053, 'Health & Fitness;Education': 0.011279043537108053, 'Board;Brain Games': 0.09023234829686443, 'Board;Action & Adventure': 0.022558087074216106, 'Casual;Music & Video': 0.011279043537108053, 'Education;Music & Video': 0.03383713061132416, 'Role Playing;Pretend Play': 0.04511617414843221, 'Entertainment;Pretend Play': 0.022558087074216106, 'Medical': 3.519061583577713, 'Social': 2.6505752312203925, 'Shopping': 2.2332506203473943, 'Photography': 2.95510940672231, 'Travel & Local': 2.323482968644259, 'Travel & Local;Action & Adventure': 0.011279043537108053, 'Tools': 8.425445522219716, 'Tools;Education': 0.011279043537108053, 'Personalization': 3.327317843446876, 'Productivity': 3.9025490638393863, 'Parenting': 0.49627791563275436, 'Parenting;Music & Video': 0.06767426122264832, 'Parenting;Education': 0.07895330475975637, 'Parenting;Brain Games': 0.011279043537108053, 'Weather': 0.8008120911346718, 'Video Players & Editors': 1.7708098353259643, 'Video Players & Editors;Music & Video': 0.022558087074216106, 'Video Players & Editors;Creativity': 0.011279043537108053, 'News & Magazines': 2.8197608842770134, 'Maps & Navigation': 1.3986013986013985, 'Health & Fitness;Action & Adventure': 0.011279043537108053, 'Educational': 0.37220843672456577, 'Casino': 0.428603654410106, 'Trivia;Education': 0.011279043537108053, 'Lifestyle;Education': 0.011279043537108053, 'Card;Action & Adventure': 0.011279043537108053, 'Books & Reference;Education': 0.011279043537108053, 'Simulation;Education': 0.011279043537108053, 'Puzzle;Education': 0.011279043537108053, 'Adventure;Education': 0.011279043537108053, 'Role Playing;Brain Games': 0.011279043537108053, 'Strategy;Education': 0.011279043537108053, 'Racing;Pretend Play': 0.011279043537108053, 'Communication;Creativity': 0.011279043537108053, 'Strategy;Creativity': 0.011279043537108053}\n",
      "\n",
      "\n",
      "{'Games': 55.673408978786384, 'Music': 1.6526887025160337, 'Social Networking': 3.5027133695115933, 'Reference': 0.493339911198816, 'Health & Fitness': 1.8746916625555006, 'Weather': 0.7646768623581648, 'Utilities': 2.688702516033547, 'Travel': 1.3813517513566849, 'Shopping': 2.9847064627528366, 'News': 1.4306857424765662, 'Navigation': 0.493339911198816, 'Lifestyle': 2.318697582634435, 'Photo & Video': 4.094721262950173, 'Entertainment': 8.238776517020227, 'Food & Drink': 1.0606808090774542, 'Sports': 1.9486926492353234, 'Book': 1.6280217069560927, 'Finance': 2.0720276270350273, 'Education': 3.2560434139121854, 'Productivity': 1.5293537247163296, 'Business': 0.493339911198816, 'Catalogs': 0.2220029600394672, 'Medical': 0.19733596447952642}\n"
     ]
    }
   ],
   "source": [
    "def display_table(dataset, index):\n",
    "    table = freq_table(dataset, index)\n",
    "    table_display = []\n",
    "    for key in table:\n",
    "        key_val_as_tuple = (table[key], key)\n",
    "        table_display.append(key_val_as_tuple)\n",
    "\n",
    "    table_sorted = sorted(table_display, reverse = True)\n",
    "    for entry in table_sorted:\n",
    "        print(entry[1], ':', entry[0])\n",
    "        \n",
    "print(freq_table(free_android, 9))\n",
    "print('\\n')\n",
    "print(freq_table(free_apple, 11))"
   ]
  },
  {
   "cell_type": "code",
   "execution_count": 15,
   "metadata": {},
   "outputs": [
    {
     "name": "stdout",
     "output_type": "stream",
     "text": [
      "['Sketch - Draw & Paint', 'ART_AND_DESIGN', '4.5', '215644', '25M', '50,000,000+', 'Free', '0', 'Teen', 'Art & Design', 'June 8, 2018', 'Varies with device', '4.2 and up']\n",
      "\n",
      "\n",
      "['Pixel Draw - Number Art Coloring Book', 'ART_AND_DESIGN', '4.3', '967', '2.8M', '100,000+', 'Free', '0', 'Everyone', 'Art & Design;Creativity', 'June 20, 2018', '1.1', '4.4 and up']\n",
      "\n",
      "\n",
      "['Paper flowers instructions', 'ART_AND_DESIGN', '4.4', '167', '5.6M', '50,000+', 'Free', '0', 'Everyone', 'Art & Design', 'March 26, 2017', '1.0', '2.3 and up']\n",
      "\n",
      "\n",
      "Number of rows: 8867\n",
      "Number of columns: 13\n"
     ]
    }
   ],
   "source": [
    "explore_data(free_android, 0, 3, True)"
   ]
  },
  {
   "cell_type": "markdown",
   "metadata": {},
   "source": [
    "Also, I had to change the orignal column I was going to use becuase column 2 in the android dataset changes between using numbers and strings to classify their genres."
   ]
  },
  {
   "cell_type": "markdown",
   "metadata": {},
   "source": [
    "The most common genre on the app store is games by far with 55%, whereas the most common genre on the android store is tools and education. Games are also somewhat common on the android store, but overall this store is much more balanced in terms of the kinds of apps provided. However, these tables only tell us how many of each kind of app are on the respective stores, and not how popular these apps are. For instance, even though social networking apps only take up 3.5% of apps on the apple store, it seems unlikely that these apps are similarly used by only 3.5% of people."
   ]
  },
  {
   "cell_type": "code",
   "execution_count": 18,
   "metadata": {},
   "outputs": [
    {
     "name": "stdout",
     "output_type": "stream",
     "text": [
      "Games 18924.68896765618\n",
      "Music 56482.02985074627\n",
      "Social Networking 32503.563380281692\n",
      "Reference 67447.9\n",
      "Health & Fitness 19952.315789473683\n",
      "Weather 47220.93548387097\n",
      "Utilities 14010.100917431193\n",
      "Travel 20216.01785714286\n",
      "Shopping 18746.677685950413\n",
      "News 15892.724137931034\n",
      "Navigation 25972.05\n",
      "Lifestyle 8978.308510638299\n",
      "Photo & Video 14392.614457831325\n",
      "Entertainment 10822.961077844311\n",
      "Food & Drink 20179.093023255813\n",
      "Sports 20128.974683544304\n",
      "Book 8498.333333333334\n",
      "Finance 13522.261904761905\n",
      "Education 6266.333333333333\n",
      "Productivity 19053.887096774193\n",
      "Business 6367.8\n",
      "Catalogs 1779.5555555555557\n",
      "Medical 459.75\n"
     ]
    }
   ],
   "source": [
    " for genre in freq_table(free_apple, 11):\n",
    "        total = 0 \n",
    "        len_genre = 0\n",
    "        for row in free_apple[1:]:\n",
    "            genre_app = row[11]\n",
    "            if genre_app == genre:\n",
    "                ratings = float(row[5])\n",
    "                total += ratings\n",
    "                len_genre +=1\n",
    "        avg_rating = total / len_genre\n",
    "        print(genre, avg_rating)\n",
    "                "
   ]
  },
  {
   "cell_type": "markdown",
   "metadata": {},
   "source": [
    "I would reccomend based on the top number of ratings that we should make a reference app, or possibly a music app. These two genres have the most number of ratings, which means there there will be plenty of users that will watch adds and increase our revenue. "
   ]
  },
  {
   "cell_type": "code",
   "execution_count": 21,
   "metadata": {},
   "outputs": [
    {
     "name": "stdout",
     "output_type": "stream",
     "text": [
      "Art & Design;Creativity 285000.0\n",
      "Art & Design 1150022.0\n",
      "Auto & Vehicles 647317.8170731707\n",
      "Beauty 513151.88679245283\n",
      "Books & Reference 8631794.093264248\n",
      "Business 1708215.906862745\n",
      "Comics 843675.9615384615\n",
      "Comics;Creativity 50000.0\n",
      "Communication 38590546.15734266\n",
      "Dating 854028.8303030303\n",
      "Education 539389.7295597484\n",
      "Education;Creativity 2875000.0\n",
      "Education;Education 4606306.774193549\n",
      "Education;Pretend Play 1800000.0\n",
      "Education;Brain Games 5333333.333333333\n",
      "Entertainment 5599186.827137547\n",
      "Entertainment;Brain Games 3314285.714285714\n",
      "Entertainment;Creativity 4000000.0\n",
      "Entertainment;Music & Video 6413333.333333333\n",
      "Events 253542.22222222222\n",
      "Finance 1361355.1437308867\n",
      "Food & Drink 1942465.605504587\n",
      "Health & Fitness 4188821.9853479853\n",
      "House & Home 1348645.2916666667\n",
      "Libraries & Demo 638503.734939759\n",
      "Lifestyle 1415357.5545977012\n",
      "Lifestyle;Pretend Play 10000000.0\n",
      "Arcade 23028723.558282208\n",
      "Puzzle 8302861.91\n",
      "Racing 15910645.681818182\n",
      "Sports 4596842.615635179\n",
      "Casual 19630958.51612903\n",
      "Simulation 3438593.5519125685\n",
      "Adventure 4090285.3333333335\n",
      "Trivia 3384378.1578947366\n",
      "Action 12649222.408759125\n",
      "Word 9094458.695652174\n",
      "Role Playing 3965645.421686747\n",
      "Strategy 11339901.3125\n",
      "Board 3388276.0606060605\n",
      "Card 3656884.6153846155\n",
      "Music 9445583.333333334\n",
      "Action;Action & Adventure 5888888.888888889\n",
      "Casual;Brain Games 1425916.6666666667\n",
      "Educational;Creativity 2333333.3333333335\n",
      "Puzzle;Brain Games 9013125.0\n",
      "Educational;Education 1737143.142857143\n",
      "Card;Brain Games 100000.0\n",
      "Casual;Pretend Play 6957142.857142857\n",
      "Educational;Brain Games 4433333.333333333\n",
      "Art & Design;Pretend Play 500000.0\n",
      "Educational;Pretend Play 9375000.0\n",
      "Entertainment;Education 1000000.0\n",
      "Casual;Education 1000000.0\n",
      "Casual;Creativity 5333333.333333333\n",
      "Casual;Action & Adventure 12916666.666666666\n",
      "Music;Music & Video 5050000.0\n",
      "Arcade;Pretend Play 1000000.0\n",
      "Adventure;Action & Adventure 35333333.333333336\n",
      "Role Playing;Action & Adventure 7000000.0\n",
      "Simulation;Pretend Play 550000.0\n",
      "Puzzle;Creativity 750000.0\n",
      "Simulation;Action & Adventure 4857142.857142857\n",
      "Racing;Action & Adventure 8816666.666666666\n",
      "Sports;Action & Adventure 5050000.0\n",
      "Educational;Action & Adventure 17016666.666666668\n",
      "Arcade;Action & Adventure 3190909.1818181816\n",
      "Entertainment;Action & Adventure 2333333.3333333335\n",
      "Art & Design;Action & Adventure 100000.0\n",
      "Puzzle;Action & Adventure 18366666.666666668\n",
      "Education;Action & Adventure 1000000.0\n",
      "Strategy;Action & Adventure 1000000.0\n",
      "Music & Audio;Music & Video 500000.0\n",
      "Health & Fitness;Education 100000.0\n",
      "Board;Brain Games 981250.0\n",
      "Board;Action & Adventure 3000000.0\n",
      "Casual;Music & Video 10000000.0\n",
      "Education;Music & Video 2033333.3333333333\n",
      "Role Playing;Pretend Play 5275000.0\n",
      "Entertainment;Pretend Play 3000000.0\n",
      "Medical 120616.48717948717\n",
      "Social 23348348.519148935\n",
      "Shopping 7072366.590909091\n",
      "Photography 17737667.614503816\n",
      "Travel & Local 14051476.145631067\n",
      "Travel & Local;Action & Adventure 100000.0\n",
      "Tools 10697495.949129853\n",
      "Tools;Education 10000000.0\n",
      "Personalization 5183850.806779661\n",
      "Productivity 16738957.554913295\n",
      "Parenting 467977.5\n",
      "Parenting;Music & Video 1118333.3333333333\n",
      "Parenting;Education 452857.14285714284\n",
      "Parenting;Brain Games 1000000.0\n",
      "Weather 5074486.197183099\n",
      "Video Players & Editors 24947335.796178345\n",
      "Video Players & Editors;Music & Video 7500000.0\n",
      "Video Players & Editors;Creativity 5000000.0\n",
      "News & Magazines 9472829.04\n",
      "Maps & Navigation 4009361.209677419\n",
      "Health & Fitness;Action & Adventure 1000000.0\n",
      "Educational 411184.8484848485\n",
      "Casino 3427910.5263157897\n",
      "Trivia;Education 100.0\n",
      "Lifestyle;Education 100000.0\n",
      "Card;Action & Adventure 10000000.0\n",
      "Books & Reference;Education 1000.0\n",
      "Simulation;Education 500.0\n",
      "Puzzle;Education 100000.0\n",
      "Adventure;Education 10000000.0\n",
      "Role Playing;Brain Games 10000000.0\n",
      "Strategy;Education 500000.0\n",
      "Racing;Pretend Play 1000000.0\n",
      "Communication;Creativity 500000.0\n",
      "Strategy;Creativity 1000000.0\n"
     ]
    }
   ],
   "source": [
    "for category in freq_table(free_android, 9):\n",
    "    total = 0\n",
    "    len_category = 0\n",
    "    for row in free_android[1:]:\n",
    "        category_app = row[9]\n",
    "        if category_app == category:\n",
    "            installs = row[5]\n",
    "            installs = installs.replace('+', '')\n",
    "            installs = installs.replace(',', '')\n",
    "            installs = float(installs)\n",
    "            total += installs\n",
    "            len_category +=1\n",
    "    avg_installs = total / len_category\n",
    "    print(category, avg_installs)\n",
    "    \n",
    "\n"
   ]
  },
  {
   "cell_type": "markdown",
   "metadata": {},
   "source": [
    "Books and references also appears to be one of the largest app markets for androids, with 8.5 million average installs. Therefore I will suggest we make a reference app."
   ]
  },
  {
   "cell_type": "code",
   "execution_count": null,
   "metadata": {},
   "outputs": [],
   "source": []
  },
  {
   "cell_type": "code",
   "execution_count": null,
   "metadata": {},
   "outputs": [],
   "source": []
  },
  {
   "cell_type": "code",
   "execution_count": null,
   "metadata": {},
   "outputs": [],
   "source": []
  }
 ],
 "metadata": {
  "kernelspec": {
   "display_name": "Python 3",
   "language": "python",
   "name": "python3"
  },
  "language_info": {
   "codemirror_mode": {
    "name": "ipython",
    "version": 3
   },
   "file_extension": ".py",
   "mimetype": "text/x-python",
   "name": "python",
   "nbconvert_exporter": "python",
   "pygments_lexer": "ipython3",
   "version": "3.8.2"
  }
 },
 "nbformat": 4,
 "nbformat_minor": 2
}
